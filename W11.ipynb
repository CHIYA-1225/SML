{
 "cells": [
  {
   "attachments": {},
   "cell_type": "markdown",
   "metadata": {},
   "source": [
    "<h3>Load data and prepare for Torch"
   ]
  },
  {
   "cell_type": "code",
   "execution_count": 1,
   "metadata": {},
   "outputs": [],
   "source": [
    "import torch\n",
    "import numpy as np\n",
    "import pandas as pd\n",
    "from torch.utils.data import DataLoader, TensorDataset\n",
    "from sklearn.model_selection import train_test_split\n",
    " \n",
    "df = pd.read_csv('data/face_data.csv')\n",
    "n_persons = df['target'].nunique() \n",
    "X = np.array(df.drop('target', axis=1)) # 400 x 4096\n",
    "y = np.array(df['target'])\n",
    " \n",
    "test_size = 0.3\n",
    "X_train, X_test, y_train, y_test = train_test_split(X, y, test_size=test_size) # deafult test_size=0.25\n",
    " \n",
    "# prepare data for PyTorch Tensor\n",
    "X_train = torch.from_numpy(X_train).float() # convert to float tensor\n",
    "y_train = torch.from_numpy(y_train).float() # \n",
    "train_dataset = TensorDataset(X_train, y_train) # create your datset\n",
    "X_test = torch.from_numpy(X_test).float()\n",
    "y_test = torch.from_numpy(y_test).float()\n",
    "test_dataset = TensorDataset(X_test, y_test) # create your datset\n",
    " \n",
    "# create dataloader for PyTorch\n",
    "#切資料,不要一次全部丟到模型裡面\n",
    "batch_size = 64 # 32, 64, 128, 256  \n",
    "train_loader = DataLoader(train_dataset, batch_size=batch_size, shuffle=True) # convert to dataloader,要回頭做訓練\n",
    "test_loader = DataLoader(test_dataset, batch_size=len(X_test), shuffle=False)"
   ]
  },
  {
   "cell_type": "code",
   "execution_count": 18,
   "metadata": {},
   "outputs": [
    {
     "data": {
      "text/plain": [
       "<torch.utils.data.dataset.TensorDataset at 0x1fd8de23940>"
      ]
     },
     "execution_count": 18,
     "metadata": {},
     "output_type": "execute_result"
    }
   ],
   "source": []
  },
  {
   "attachments": {},
   "cell_type": "markdown",
   "metadata": {},
   "source": [
    "<h3>Set up NN Model"
   ]
  },
  {
   "cell_type": "code",
   "execution_count": 3,
   "metadata": {},
   "outputs": [
    {
     "name": "stdout",
     "output_type": "stream",
     "text": [
      "Using cpu device\n",
      "MLP(\n",
      "  (mlp): Sequential(\n",
      "    (0): Linear(in_features=4096, out_features=512, bias=True)\n",
      "    (1): ReLU()\n",
      "    (2): Linear(in_features=512, out_features=40, bias=True)\n",
      "  )\n",
      ")\n"
     ]
    }
   ],
   "source": [
    "import torch.nn as nn #適合定義用的relu\n",
    "import torch.nn.functional as F #適合用來使用的relu\n",
    " \n",
    "# select device\n",
    "device = torch.device('cuda' if torch.cuda.is_available() else 'cpu')\n",
    "# device = \"cpu\" # run faster than cuda in some cases\n",
    "print(\"Using {} device\".format(device))\n",
    " \n",
    "# Create a neural network\n",
    "class MLP(nn.Module):\n",
    "    def __init__(self):\n",
    "        #定義模型內容: 隱藏層,神經元數量\n",
    "        super(MLP, self).__init__()\n",
    "        self.mlp = nn.Sequential(\n",
    "            nn.Linear(64*64, 512), # image length 64x64=4096,  fully connected layer #allFace: 192*168\n",
    "            nn.ReLU(), # try to take ReLU out to see what happen\n",
    "            # nn.Linear(512, 512), # second hidden layer\n",
    "            # nn.ReLU(),\n",
    "            nn.Linear(512, 40) # 10 classes,  fully connected layer\n",
    "            # nn.Softmax()\n",
    "        )\n",
    "    # Specify how data will pass through this model 輸出結果為機率\n",
    "    def forward(self, x):\n",
    "        # out = self.mlp(x) \n",
    " \n",
    "        # Apply softmax to x here~\n",
    "        x = self.mlp(x)\n",
    "        out = F.log_softmax(x, dim=1) # it’s faster and has better numerical propertie than softmax\n",
    "        # out = F.softmax(x, dim=1)\n",
    "        return out\n",
    " \n",
    " \n",
    "# define model, optimizer, loss function\n",
    "model = MLP().to(device) # start an instance\n",
    "optimizer = torch.optim.Adam(model.parameters(), lr=0.001) # default lreaning rate=1e-3\n",
    "loss_fun = nn.CrossEntropyLoss() # define loss function\n",
    " \n",
    "print(model)"
   ]
  },
  {
   "attachments": {},
   "cell_type": "markdown",
   "metadata": {},
   "source": [
    "test the forwards process of the nn model"
   ]
  },
  {
   "cell_type": "code",
   "execution_count": 13,
   "metadata": {},
   "outputs": [
    {
     "name": "stdout",
     "output_type": "stream",
     "text": [
      "torch.Size([100, 512])\n",
      "torch.Size([100, 512])\n",
      "torch.Size([100, 40])\n",
      "torch.Size([100, 40])\n"
     ]
    }
   ],
   "source": [
    "input = torch.randn(100,64*64)\n",
    "m1 = nn.Linear(64*64,512)\n",
    "output=m1(input)\n",
    "print(output.size())\n",
    "\n",
    "output=F.relu(output) #使用\n",
    "print(output.size())\n",
    "\n",
    "m2= nn.Linear(512,40)\n",
    "output=m2(output)\n",
    "print(output.size())\n",
    "\n",
    "output = F.log_softmax(output,dim=1)\n",
    "print(output.size())"
   ]
  },
  {
   "attachments": {},
   "cell_type": "markdown",
   "metadata": {},
   "source": [
    "<h3>Start training"
   ]
  },
  {
   "cell_type": "code",
   "execution_count": 14,
   "metadata": {},
   "outputs": [
    {
     "name": "stderr",
     "output_type": "stream",
     "text": [
      "100%|██████████| 60/60 [00:13<00:00,  4.44it/s]"
     ]
    },
    {
     "name": "stdout",
     "output_type": "stream",
     "text": [
      "Finished ... Loss  0.2816 | train accuracy 0.9929\n"
     ]
    },
    {
     "name": "stderr",
     "output_type": "stream",
     "text": [
      "\n"
     ]
    }
   ],
   "source": [
    "from tqdm import tqdm\n",
    " \n",
    "epochs = 60 # Repeat the whole dataset epochs times\n",
    "model.train() # Sets the module in training mode. The training model allow the parameters to be updated during backpropagation.\n",
    "for epoch in tqdm(range(epochs)):\n",
    "    trainAcc = 0\n",
    "    samples = 0\n",
    "    losses = []\n",
    "    for batch_num, input_data in enumerate(train_loader):\n",
    "    # for batch_num, input_data in tqdm(enumerate(train_loader), total=len(train_loader)):\n",
    "        optimizer.zero_grad() # Zeros the gradients accumulated from the previous batch/step of the model\n",
    "        x, y = input_data\n",
    "        x = x.to(device).float()\n",
    "        y = y.to(device)\n",
    " \n",
    "        # perform training based on the backpropagation\n",
    "        y_pre = model(x) # predict y\n",
    "        loss = loss_fun(y_pre, y.long()) # the loss function nn.CrossEntropyLoss()\n",
    "        loss.backward() # Performs backpropagation\n",
    "        losses.append(loss.item())\n",
    "        optimizer.step() # Updates the weights in our neural network based on the results of backpropagation\n",
    "         \n",
    "        # Record the training accuracy for each batch\n",
    "        trainAcc += (y_pre.argmax(dim=1) == y).sum().item() # comparison\n",
    "        samples += y.size(0)\n",
    "        # if batch_num % 40 == 0:\n",
    "        #     print('\\tEpoch %d | Batch %d | Loss %6.2f' % (epoch, batch_num, loss.item()))\n",
    "    # print('Epoch %d | Loss %6.2f | train accuracy %.4f' % (epoch, sum(losses)/len(losses), trainAcc/samples))\n",
    " \n",
    "print('Finished ... Loss %7.4f | train accuracy %.4f' % (sum(losses)/len(losses), trainAcc/samples))\n"
   ]
  },
  {
   "attachments": {},
   "cell_type": "markdown",
   "metadata": {},
   "source": [
    "<h3>Testing (1) : Compute test accuracy by batch"
   ]
  },
  {
   "cell_type": "code",
   "execution_count": 15,
   "metadata": {},
   "outputs": [
    {
     "name": "stdout",
     "output_type": "stream",
     "text": [
      "Test Accuracy:0.875\n"
     ]
    }
   ],
   "source": [
    "model.eval() \n",
    "testAcc = 0\n",
    "samples = 0\n",
    "with torch.no_grad():\n",
    "    for x, y_truth in test_loader:\n",
    "        x = x.to(device).float()\n",
    "        y_truth = y_truth.to(device)\n",
    "        y_pre = model(x).argmax(dim=1) # the predictions for the batch\n",
    "        testAcc += (y_pre == y_truth).sum().item() # comparison\n",
    "        samples += y_truth.size(0)\n",
    " \n",
    "    print('Test Accuracy:{:.3f}'.format(testAcc/samples))"
   ]
  },
  {
   "attachments": {},
   "cell_type": "markdown",
   "metadata": {},
   "source": [
    "<h3>Testing (2): Compute the test accuracy and record the result for each test data"
   ]
  },
  {
   "cell_type": "code",
   "execution_count": 16,
   "metadata": {},
   "outputs": [
    {
     "name": "stdout",
     "output_type": "stream",
     "text": [
      "Test Accuracy:0.875\n"
     ]
    }
   ],
   "source": [
    "import csv\n",
    " \n",
    "# use eval() in conjunction with a torch.no_grad() context, \n",
    "# meaning that gradient computation is turned off in evaluation mode\n",
    "model.eval() \n",
    "testAcc = 0\n",
    "samples = 0\n",
    " \n",
    "with open('mlp_att.csv', 'w') as f:\n",
    "    fieldnames = ['ImageId', 'Label', 'Ground_Truth']\n",
    "    writer = csv.DictWriter(f, fieldnames=fieldnames, lineterminator = '\\n')\n",
    "    writer.writeheader()\n",
    "    image_id = 1\n",
    " \n",
    "    with torch.no_grad():\n",
    "        for x, y_truth in test_loader:\n",
    "            x = x.to(device).float()\n",
    "            y_truth = y_truth.to(device).long()\n",
    "            yIdx = 0\n",
    "            y_pre = model(x).argmax(dim=1) # the predictions for the batch\n",
    "            testAcc += (y_pre == y_truth).sum().item() # comparison\n",
    "            samples += y_truth.size(0)\n",
    "            for y in y_pre:\n",
    "                writer.writerow({fieldnames[0]: image_id,fieldnames[1]: y.item(), fieldnames[2]: y_truth[yIdx].item()})\n",
    "                image_id += 1\n",
    "                yIdx += 1\n",
    " \n",
    "        print('Test Accuracy:{:.3f}'.format(testAcc/samples))"
   ]
  },
  {
   "attachments": {},
   "cell_type": "markdown",
   "metadata": {},
   "source": [
    "<h3>_________________________________________________________<br>\n",
    "PyTorch 的深度機器學習 CNN 範例：<br>\n",
    "以手寫數字辨識為例<br>\n",
    "_________________________________________________________<br>\n"
   ]
  },
  {
   "attachments": {},
   "cell_type": "markdown",
   "metadata": {},
   "source": [
    "Load and prepare data: 注意讀入的資料轉換為 Tensor 型態的過程。"
   ]
  },
  {
   "cell_type": "code",
   "execution_count": 14,
   "metadata": {},
   "outputs": [],
   "source": [
    "from scipy.io import loadmat\n",
    "from sklearn.model_selection import train_test_split\n",
    "from sklearn.preprocessing import StandardScaler\n",
    "import torch\n",
    "from torch.utils.data import TensorDataset\n",
    "from torch.utils.data import DataLoader\n",
    "\n",
    "mnist = loadmat(\"data/mnist-original.mat\")\n"
   ]
  },
  {
   "cell_type": "code",
   "execution_count": 15,
   "metadata": {},
   "outputs": [
    {
     "name": "stdout",
     "output_type": "stream",
     "text": [
      "X_train.shape: torch.Size([56000, 1, 28, 28])\n",
      "y_train.shape: torch.Size([56000])\n",
      "X_test.shape: torch.Size([14000, 1, 28, 28])\n",
      "y_test.shape: torch.Size([14000])\n"
     ]
    }
   ],
   "source": [
    "X = mnist[\"data\"].T # 70000 x 784\n",
    "y = mnist[\"label\"][0]\n",
    " \n",
    "test_size = 0.2\n",
    "X_train, X_test, y_train, y_test = train_test_split(X, y, test_size=test_size) # deafult test_size=0.25\n",
    " \n",
    "# standaredize (may not be necessary)\n",
    "scaler = StandardScaler()\n",
    "X_train = scaler.fit_transform(X_train)\n",
    "X_test = scaler.fit_transform(X_test)\n",
    " \n",
    "# convert to tensors\n",
    "X_train = torch.from_numpy(X_train).float()\n",
    "y_train = torch.from_numpy(y_train).long()\n",
    "X_train = X_train.reshape(-1, 1, 28, 28) # convert to N x 1 x 28 x 28 for CNN (一小張黑白圖片的大小為28x28)\n",
    "X_test = torch.from_numpy(X_test).float()\n",
    "y_test = torch.from_numpy(y_test).long()\n",
    "X_test = X_test.reshape(-1, 1, 28, 28) # N x 1 x 28 x 28 \n",
    "\n",
    " \n",
    "# check shapes of data\n",
    "print(\"X_train.shape:\", X_train.shape)\n",
    "print(\"y_train.shape:\", y_train.shape)\n",
    "print(\"X_test.shape:\", X_test.shape)\n",
    "print(\"y_test.shape:\", y_test.shape)\n",
    " \n",
    "# create dataloaders\n",
    "train_dataset = TensorDataset(X_train, y_train)\n",
    "test_dataset = TensorDataset(X_test, y_test)\n",
    "batch_size = 128\n",
    "train_loader = DataLoader(train_dataset, batch_size=batch_size, shuffle=True)\n",
    "test_loader = DataLoader(test_dataset, batch_size=batch_size, shuffle=False)"
   ]
  },
  {
   "attachments": {},
   "cell_type": "markdown",
   "metadata": {},
   "source": [
    "Define the network: 注意 convolution 採 zero-padding=0，即沒有 zero-padding，因此最後轉線性函數時，須留意計算經過幾層 convolution 及 max-pooling 後的影像矩陣大小。"
   ]
  },
  {
   "cell_type": "code",
   "execution_count": 19,
   "metadata": {},
   "outputs": [
    {
     "name": "stdout",
     "output_type": "stream",
     "text": [
      "Using cpu device\n",
      "Net(\n",
      "  (conv1): Conv2d(1, 6, kernel_size=(5, 5), stride=(1, 1))\n",
      "  (conv2): Conv2d(6, 16, kernel_size=(5, 5), stride=(1, 1))\n",
      "  (fc1): Linear(in_features=256, out_features=120, bias=True)\n",
      "  (fc2): Linear(in_features=120, out_features=84, bias=True)\n",
      "  (fc3): Linear(in_features=84, out_features=10, bias=True)\n",
      ")\n"
     ]
    }
   ],
   "source": [
    "import torch\n",
    "import torch.nn as nn\n",
    "import torch.nn.functional as F\n",
    " \n",
    "class Net(nn.Module):\n",
    " \n",
    "    def __init__(self):\n",
    "        super(Net, self).__init__()\n",
    "         \n",
    "        self.conv1 = nn.Conv2d(1, 6, 5) # 1 input channel, 6 output channels, 5x5 square convolution ->(N,6,24,24)-pool->(N,6,12,12)\n",
    "        self.conv2 = nn.Conv2d(6, 16, 5) # 接著前面的output, 6 input channel, 16 output channels, 5x5 square convolution ->(N,16,8,8)-pool->(N,16,4,4)\n",
    "        # an affine operation: y = Wx + b\n",
    "        self.fc1 = nn.Linear(16 * 4 * 4, 120)  # 接著前面的output, 4*4 from image dimension \n",
    "        self.fc2 = nn.Linear(120, 84)\n",
    "        self.fc3 = nn.Linear(84, 10) # 10 output classes\n",
    " \n",
    "    def forward(self, x):\n",
    "         \n",
    "        x = F.max_pool2d(F.relu(self.conv1(x)), (2, 2)) # Max pooling over a (2, 2) window\n",
    "        # If the size is a square, you can specify with a single number\n",
    "        x = F.max_pool2d(F.relu(self.conv2(x)), 2)\n",
    "        x = torch.flatten(x, 1) # flatten all dimensions except the batch dimension\n",
    "        x = F.relu(self.fc1(x))\n",
    "        x = F.relu(self.fc2(x))\n",
    "        x = self.fc3(x)\n",
    "        return x\n",
    " \n",
    " \n",
    "device = \"cuda:0\" if torch.cuda.is_available() else \"cpu\"\n",
    "print(\"Using {} device\".format(device))\n",
    " \n",
    "net = Net().to(device)\n",
    "print(net)"
   ]
  },
  {
   "attachments": {},
   "cell_type": "markdown",
   "metadata": {},
   "source": [
    "Test to see the layer output for various settings"
   ]
  },
  {
   "cell_type": "code",
   "execution_count": 34,
   "metadata": {},
   "outputs": [
    {
     "name": "stdout",
     "output_type": "stream",
     "text": [
      "torch.Size([128, 6, 24, 24])\n",
      "torch.Size([128, 6, 12, 12])\n",
      "torch.Size([128, 16, 8, 8])\n",
      "torch.Size([128, 16, 4, 4])\n",
      "torch.Size([128, 256])\n",
      "torch.Size([128, 120])\n",
      "torch.Size([128, 84])\n",
      "torch.Size([128, 10])\n"
     ]
    }
   ],
   "source": [
    "input = torch.randn(128, 1, 28, 28) # 20 random 28 x 28 images with\n",
    "#layer1\n",
    "m= nn.Conv2d(1, 6, 5, stride=1)\n",
    "output = m(input)\n",
    "print(output.shape)\n",
    "output = F.max_pool2d(F.relu(output),(2,2))\n",
    "print(output.shape)\n",
    "\n",
    "#layer2\n",
    "m = nn.Conv2d(6, 16,5, stride=1)\n",
    "output = m(output)\n",
    "print(output.shape)\n",
    "output = F.max_pool2d(F.relu(output), 2)\n",
    "print(output.shape)\n",
    "output = torch.flatten(output, 1)\n",
    "print(output.shape)\n",
    "\n",
    "m=nn.Linear(16*4*4, 120)\n",
    "output=m(output)\n",
    "print(output.shape)\n",
    "\n",
    "m=nn.Linear(120, 84)\n",
    "output=m(output)\n",
    "print(output.shape)\n",
    "\n",
    "m=nn.Linear(84, 10)\n",
    "output=m(output)\n",
    "print(output.shape)"
   ]
  },
  {
   "attachments": {},
   "cell_type": "markdown",
   "metadata": {},
   "source": [
    "觀察將進入訓練的影像資料，並試做 network 是否設計有誤"
   ]
  },
  {
   "cell_type": "code",
   "execution_count": 20,
   "metadata": {},
   "outputs": [
    {
     "name": "stdout",
     "output_type": "stream",
     "text": [
      "(1, 10)\n",
      "tensor([[-0.0066,  0.0612,  0.0862, -0.0650,  0.0348,  0.0676,  0.0141, -0.0371,\n",
      "          0.0106, -0.0316]])\n",
      "tensor([[2]])\n",
      "[[-0.0066422   0.06115761  0.08617689 -0.06503701  0.03481562  0.06758615\n",
      "   0.01411347 -0.03710762  0.01055825 -0.03159628]]\n",
      "torch.Size([128, 1, 28, 28])\n"
     ]
    },
    {
     "data": {
      "image/png": "[encoded data removed]",
      "text/plain": [
       "<Figure size 432x288 with 1 Axes>"
      ]
     },
     "metadata": {
      "needs_background": "light"
     },
     "output_type": "display_data"
    },
    {
     "name": "stderr",
     "output_type": "stream",
     "text": [
      "Clipping input data to the valid range for imshow with RGB data ([0..1] for floats or [0..255] for integers).\n"
     ]
    },
    {
     "data": {
      "image/png": "[encoded data removed]",
      "text/plain": [
       "<Figure size 432x288 with 1 Axes>"
      ]
     },
     "metadata": {
      "needs_background": "light"
     },
     "output_type": "display_data"
    }
   ],
   "source": [
    "import matplotlib.pyplot as plt\n",
    "import numpy as np\n",
    "import torchvision\n",
    " \n",
    "input = train_dataset[0][0].reshape(1, 1, 28, 28)\n",
    "# 觀察 network 輸出結果\n",
    "out = net(input.to(device))\n",
    "print(out.to(\"cpu\").detach().numpy().shape)\n",
    "print(out.data)\n",
    "print(out.data.max(1, keepdim=True)[1])\n",
    "print(out.to(\"cpu\").detach().numpy())\n",
    " \n",
    "# get some random training images\n",
    "dataiter = iter(train_loader) # an iterable object\n",
    "images, labels = next(dataiter) # get the next batch\n",
    "print(images.shape)\n",
    " \n",
    "# show a single image\n",
    "a_image = images[0]\n",
    "a_image_ = np.transpose(a_image, (1, 2, 0))\n",
    "plt.imshow(a_image_, cmap='gray')\n",
    "plt.show()\n",
    " \n",
    "# show a grid of images\n",
    "montage = torchvision.utils.make_grid(images, nrow=16) # make a grid of images with 16 images per row\n",
    "plt.imshow(np.transpose(montage, (1, 2, 0)), cmap='gray')\n",
    "plt.show()"
   ]
  },
  {
   "attachments": {},
   "cell_type": "markdown",
   "metadata": {},
   "source": [
    "Define a Loss function and optimizer: use a Classification Cross-Entropy loss and SGD with momentum"
   ]
  },
  {
   "cell_type": "code",
   "execution_count": 21,
   "metadata": {},
   "outputs": [],
   "source": [
    "criterion = nn.CrossEntropyLoss()\n",
    "optimizer = torch.optim.SGD(net.parameters(), lr=0.001, momentum=0.9)\n",
    "# optimizer = optim.Adam(net2.parameters(), lr = 0.01) "
   ]
  },
  {
   "attachments": {},
   "cell_type": "markdown",
   "metadata": {},
   "source": [
    "Train the network"
   ]
  },
  {
   "cell_type": "code",
   "execution_count": 22,
   "metadata": {},
   "outputs": [
    {
     "name": "stdout",
     "output_type": "stream",
     "text": [
      "[epoch : 1, batch:   200] loss: 2.293\n",
      "[epoch : 1, batch:   400] loss: 2.249\n",
      "[epoch : 2, batch:   200] loss: 1.624\n",
      "[epoch : 2, batch:   400] loss: 0.596\n",
      "[epoch : 3, batch:   200] loss: 0.385\n",
      "[epoch : 3, batch:   400] loss: 0.326\n",
      "[epoch : 4, batch:   200] loss: 0.278\n",
      "[epoch : 4, batch:   400] loss: 0.246\n",
      "[epoch : 5, batch:   200] loss: 0.215\n",
      "[epoch : 5, batch:   400] loss: 0.198\n",
      "[epoch : 6, batch:   200] loss: 0.173\n",
      "[epoch : 6, batch:   400] loss: 0.161\n",
      "[epoch : 7, batch:   200] loss: 0.144\n",
      "[epoch : 7, batch:   400] loss: 0.135\n",
      "[epoch : 8, batch:   200] loss: 0.123\n",
      "[epoch : 8, batch:   400] loss: 0.113\n",
      "[epoch : 9, batch:   200] loss: 0.107\n",
      "[epoch : 9, batch:   400] loss: 0.100\n",
      "[epoch : 10, batch:   200] loss: 0.097\n",
      "[epoch : 10, batch:   400] loss: 0.092\n",
      "[epoch : 11, batch:   200] loss: 0.085\n",
      "[epoch : 11, batch:   400] loss: 0.085\n",
      "[epoch : 12, batch:   200] loss: 0.079\n",
      "[epoch : 12, batch:   400] loss: 0.080\n",
      "[epoch : 13, batch:   200] loss: 0.076\n",
      "[epoch : 13, batch:   400] loss: 0.070\n",
      "[epoch : 14, batch:   200] loss: 0.069\n",
      "[epoch : 14, batch:   400] loss: 0.069\n",
      "[epoch : 15, batch:   200] loss: 0.064\n",
      "[epoch : 15, batch:   400] loss: 0.065\n",
      "Finished Training\n"
     ]
    }
   ],
   "source": [
    "epochs = 15\n",
    "for epoch in range(epochs):  # loop over the dataset multiple times\n",
    " \n",
    "    running_loss = 0.0\n",
    "    for i, data in enumerate(train_loader, 0):\n",
    "        # get the inputs; data is a list of [inputs, labels]\n",
    "        inputs, labels = data[0].to(device), data[1].to(device) # move to GPU if available\n",
    "             \n",
    "        # zero the parameter gradients\n",
    "        optimizer.zero_grad()\n",
    "        # forward + backward + optimize\n",
    "        outputs = net(inputs) # forward pass\n",
    "        loss = criterion(outputs, labels) # compute loss\n",
    "        # writer.add_scalar(\"Loss/train\", loss, epoch)\n",
    "        loss.backward() # compute gradients\n",
    "        optimizer.step() # update weights\n",
    " \n",
    "        # print statistics\n",
    "        running_loss += loss.item()\n",
    "        if i % 200 == 199:    # print every 200 mini-batches\n",
    "            print(f'[epoch : {epoch + 1}, batch: {i + 1:5d}] loss: {running_loss / 200:.3f}')\n",
    "            running_loss = 0.0\n",
    " \n",
    "print('Finished Training')"
   ]
  },
  {
   "attachments": {},
   "cell_type": "markdown",
   "metadata": {},
   "source": [
    "save the trained model for later use: 做為再次訓練的起點或訓練完成後的使用狀態"
   ]
  },
  {
   "cell_type": "code",
   "execution_count": 25,
   "metadata": {},
   "outputs": [],
   "source": [
    "PATH = './digit10_net.pt' # .pth will collide with the PyTorch JIT\n",
    "torch.save(net.state_dict(), PATH)"
   ]
  },
  {
   "attachments": {},
   "cell_type": "markdown",
   "metadata": {},
   "source": [
    "Test the network on the test data"
   ]
  },
  {
   "cell_type": "code",
   "execution_count": 26,
   "metadata": {},
   "outputs": [
    {
     "name": "stdout",
     "output_type": "stream",
     "text": [
      "Accuracy of the network on the 10000 test images: 97 %\n"
     ]
    }
   ],
   "source": [
    "correct = 0\n",
    "total = 0\n",
    "# since we're not training, we don't need to calculate the gradients for our outputs\n",
    "with torch.no_grad():\n",
    "    for data in test_loader:\n",
    "        images, labels = data[0].to(device), data[1].to(device)\n",
    "        # calculate outputs by running images through the network\n",
    "        outputs = net(images)\n",
    "        # the class with the highest energy is what we choose as prediction\n",
    "        _, predicted = torch.max(outputs.data, 1)\n",
    "        total += labels.size(0)\n",
    "        correct += (predicted == labels).sum().item()\n",
    " \n",
    "print(f'Accuracy of the network on the 10000 test images: {100 * correct // total} %')"
   ]
  },
  {
   "attachments": {},
   "cell_type": "markdown",
   "metadata": {},
   "source": [
    "Test on a random batch: 觀察部分測試的實際情況"
   ]
  },
  {
   "cell_type": "code",
   "execution_count": 27,
   "metadata": {},
   "outputs": [
    {
     "name": "stderr",
     "output_type": "stream",
     "text": [
      "Clipping input data to the valid range for imshow with RGB data ([0..1] for floats or [0..255] for integers).\n"
     ]
    },
    {
     "data": {
      "image/png": "[encoded data removed]",
      "text/plain": [
       "<Figure size 432x288 with 1 Axes>"
      ]
     },
     "metadata": {
      "needs_background": "light"
     },
     "output_type": "display_data"
    },
    {
     "name": "stdout",
     "output_type": "stream",
     "text": [
      "The predictions:\n",
      " {tensor([[8, 3, 3, 2, 2, 8, 5, 1, 2, 7, 7, 2, 9, 4, 9, 7],\n",
      "        [6, 1, 6, 9, 3, 6, 6, 7, 7, 3, 5, 6, 0, 3, 7, 3],\n",
      "        [4, 7, 1, 1, 4, 0, 7, 2, 6, 0, 8, 9, 1, 4, 0, 0],\n",
      "        [6, 2, 6, 7, 9, 3, 7, 3, 1, 1, 8, 9, 2, 1, 7, 1],\n",
      "        [1, 7, 4, 9, 6, 3, 9, 4, 5, 4, 3, 9, 3, 7, 8, 5],\n",
      "        [9, 6, 5, 4, 7, 4, 8, 9, 0, 4, 2, 6, 6, 1, 3, 7],\n",
      "        [4, 3, 8, 3, 6, 3, 8, 0, 8, 7, 1, 9, 5, 3, 4, 4],\n",
      "        [3, 1, 7, 1, 9, 0, 9, 5, 6, 4, 5, 0, 3, 7, 0, 2]])}\n",
      "Accuracy of the network on the 64 test images: 96.875 %\n"
     ]
    }
   ],
   "source": [
    "import torchvision\n",
    "import matplotlib.pyplot as plt\n",
    "import numpy as np\n",
    " \n",
    "sample_idx = torch.randint(len(test_loader), size=(1,)).item()\n",
    "dataiter = iter(test_loader)\n",
    "for i in range(sample_idx): # randomly select a batch\n",
    "    images, labels = next(dataiter)\n",
    " \n",
    "# print test images\n",
    "nrow = 16 # number of images per row\n",
    "montage = torchvision.utils.make_grid(images, nrow=nrow)\n",
    "plt.imshow(np.transpose(montage, (1, 2, 0)), cmap='gray')\n",
    "plt.show()\n",
    " \n",
    "# predict the labels\n",
    "outputs = net(images.to(device))\n",
    "_, predicted = torch.max(outputs, 1)\n",
    "print(\"The predictions:\\n\", {predicted.reshape(batch_size // nrow, nrow)})\n",
    " \n",
    "total = labels.size(0)\n",
    "correct_rate = (predicted == labels.to(device)).sum().item() / total\n",
    "print(f'Accuracy of the network on the 64 test images: {100 * correct_rate} %')"
   ]
  },
  {
   "attachments": {},
   "cell_type": "markdown",
   "metadata": {},
   "source": [
    "採用第二種 network 結構 Net2：留意 convolution 的 zero-padding=2，造成後續影像矩陣大小的變化。另外，network 的輸出有兩項，第二項作為其他用途。"
   ]
  },
  {
   "cell_type": "code",
   "execution_count": 28,
   "metadata": {},
   "outputs": [
    {
     "name": "stdout",
     "output_type": "stream",
     "text": [
      "Using cpu device\n",
      "Net2(\n",
      "  (conv1): Sequential(\n",
      "    (0): Conv2d(1, 16, kernel_size=(5, 5), stride=(1, 1), padding=(2, 2))\n",
      "    (1): ReLU()\n",
      "    (2): MaxPool2d(kernel_size=2, stride=2, padding=0, dilation=1, ceil_mode=False)\n",
      "  )\n",
      "  (conv2): Sequential(\n",
      "    (0): Conv2d(16, 32, kernel_size=(5, 5), stride=(1, 1), padding=(2, 2))\n",
      "    (1): ReLU()\n",
      "    (2): MaxPool2d(kernel_size=2, stride=2, padding=0, dilation=1, ceil_mode=False)\n",
      "  )\n",
      "  (out): Linear(in_features=1568, out_features=10, bias=True)\n",
      ")\n"
     ]
    }
   ],
   "source": [
    "class Net2(nn.Module):\n",
    "    def __init__(self):\n",
    "        super(Net2, self).__init__()\n",
    "        self.conv1 = nn.Sequential(         \n",
    "            nn.Conv2d(\n",
    "                in_channels=1,              \n",
    "                out_channels=16,            \n",
    "                kernel_size=5,              \n",
    "                stride=1,                   \n",
    "                padding=2,                  \n",
    "            ),                              \n",
    "            nn.ReLU(),                      \n",
    "            nn.MaxPool2d(kernel_size=2),    \n",
    "        )\n",
    "        self.conv2 = nn.Sequential(         \n",
    "            nn.Conv2d(16, 32, 5, 1, 2),     \n",
    "            nn.ReLU(),                      \n",
    "            nn.MaxPool2d(2),                \n",
    "        )\n",
    "        # fully connected layer, output 10 classes\n",
    "        self.out = nn.Linear(32 * 7 * 7, 10) # 32 * 7 * 7 is the size of the output of conv2\n",
    "    def forward(self, x):\n",
    "        x = self.conv1(x)\n",
    "        x = self.conv2(x)\n",
    "        # flatten the output of conv2 to (batch_size, 32 * 7 * 7)\n",
    "        x = x.view(x.size(0), -1) # another way to flatten       \n",
    "        output = self.out(x)\n",
    "        return output, x    # return x for visualization\n",
    " \n",
    "device = \"cuda:0\" if torch.cuda.is_available() else \"cpu\"\n",
    "print(\"Using {} device\".format(device))\n",
    " \n",
    "net2 = Net2().to(device)\n",
    "print(net2)"
   ]
  },
  {
   "attachments": {},
   "cell_type": "markdown",
   "metadata": {},
   "source": [
    "Set up Loss function and optimizer"
   ]
  },
  {
   "cell_type": "code",
   "execution_count": 29,
   "metadata": {},
   "outputs": [],
   "source": [
    "loss_func = nn.CrossEntropyLoss()\n",
    "optimizer = torch.optim.Adam(net2.parameters(), lr = 0.01)"
   ]
  },
  {
   "attachments": {},
   "cell_type": "markdown",
   "metadata": {},
   "source": [
    "Train the network"
   ]
  },
  {
   "cell_type": "code",
   "execution_count": 30,
   "metadata": {},
   "outputs": [
    {
     "name": "stdout",
     "output_type": "stream",
     "text": [
      "Epoch [1/15], Step [200/438], Loss: 0.1897\n",
      "Epoch [1/15], Step [400/438], Loss: 0.0194\n",
      "Epoch [2/15], Step [200/438], Loss: 0.0143\n",
      "Epoch [2/15], Step [400/438], Loss: 0.0399\n",
      "Epoch [3/15], Step [200/438], Loss: 0.0427\n",
      "Epoch [3/15], Step [400/438], Loss: 0.0268\n",
      "Epoch [4/15], Step [200/438], Loss: 0.0057\n",
      "Epoch [4/15], Step [400/438], Loss: 0.0254\n",
      "Epoch [5/15], Step [200/438], Loss: 0.0585\n",
      "Epoch [5/15], Step [400/438], Loss: 0.0414\n",
      "Epoch [6/15], Step [200/438], Loss: 0.1198\n",
      "Epoch [6/15], Step [400/438], Loss: 0.0490\n",
      "Epoch [7/15], Step [200/438], Loss: 0.1098\n",
      "Epoch [7/15], Step [400/438], Loss: 0.0364\n",
      "Epoch [8/15], Step [200/438], Loss: 0.0575\n",
      "Epoch [8/15], Step [400/438], Loss: 0.0854\n",
      "Epoch [9/15], Step [200/438], Loss: 0.1537\n",
      "Epoch [9/15], Step [400/438], Loss: 0.0436\n",
      "Epoch [10/15], Step [200/438], Loss: 0.1791\n",
      "Epoch [10/15], Step [400/438], Loss: 0.0769\n",
      "Epoch [11/15], Step [200/438], Loss: 0.0093\n",
      "Epoch [11/15], Step [400/438], Loss: 0.0068\n",
      "Epoch [12/15], Step [200/438], Loss: 0.0993\n",
      "Epoch [12/15], Step [400/438], Loss: 0.0480\n",
      "Epoch [13/15], Step [200/438], Loss: 0.0309\n",
      "Epoch [13/15], Step [400/438], Loss: 0.0835\n",
      "Epoch [14/15], Step [200/438], Loss: 0.0434\n",
      "Epoch [14/15], Step [400/438], Loss: 0.0601\n",
      "Epoch [15/15], Step [200/438], Loss: 0.1663\n",
      "Epoch [15/15], Step [400/438], Loss: 0.0102\n"
     ]
    }
   ],
   "source": [
    "num_epochs = 15\n",
    "def train(num_epochs, cnn, loaders):\n",
    "     \n",
    "    cnn.train()\n",
    "         \n",
    "    # Train the model\n",
    "    total_step = len(loaders)\n",
    "         \n",
    "    for epoch in range(num_epochs):\n",
    "        for i, (images, labels) in enumerate(loaders):\n",
    "        \n",
    "            b_x = images.to(device)   # batch x\n",
    "            b_y = labels.to(device)   # batch y\n",
    "            output = cnn(b_x)[0] # cnn output: get the first element of the returned tuple\n",
    "                        \n",
    "            loss = loss_func(output, b_y)\n",
    "             \n",
    "            # clear gradients for this training step   \n",
    "            optimizer.zero_grad()           \n",
    "             \n",
    "            # backpropagation, compute gradients \n",
    "            loss.backward()    \n",
    "            # apply gradients             \n",
    "            optimizer.step()                \n",
    "             \n",
    "            if (i+1) % 200 == 0:\n",
    "                print ('Epoch [{}/{}], Step [{}/{}], Loss: {:.4f}'\n",
    "                       .format(epoch + 1, num_epochs, i + 1, total_step, loss.item()))\n",
    "                pass\n",
    "         \n",
    "        pass\n",
    "     \n",
    "    pass\n",
    " \n",
    "train(num_epochs, net2, train_loader)"
   ]
  },
  {
   "attachments": {},
   "cell_type": "markdown",
   "metadata": {},
   "source": [
    "Evaluate the model on test data"
   ]
  },
  {
   "cell_type": "code",
   "execution_count": 31,
   "metadata": {},
   "outputs": [
    {
     "name": "stdout",
     "output_type": "stream",
     "text": [
      "Test Accuracy of the model on the 10000 test images: 0.98\n"
     ]
    }
   ],
   "source": [
    "def test():\n",
    "    # Test the model\n",
    "    net2.eval()\n",
    "    with torch.no_grad():\n",
    "        correct = 0\n",
    "        total = 0\n",
    "        for images, labels in test_loader:\n",
    "            test_output, last_layer = net2(images.to(device))\n",
    "            pred_y = torch.max(test_output, 1)[1]\n",
    "            correct += (pred_y == labels.to(device)).sum().item()\n",
    "            total += labels.size(0)\n",
    "            # accuracy = (pred_y == labels.to(device)).sum().item() / float(labels.size(0))\n",
    "            pass\n",
    "    accuracy = correct / total\n",
    "    print('Test Accuracy of the model on the 10000 test images: %.2f' % accuracy)\n",
    "     \n",
    "    pass\n",
    "test()"
   ]
  },
  {
   "attachments": {},
   "cell_type": "markdown",
   "metadata": {},
   "source": [
    "Print 10 predictions from test data"
   ]
  },
  {
   "cell_type": "code",
   "execution_count": 32,
   "metadata": {},
   "outputs": [
    {
     "name": "stdout",
     "output_type": "stream",
     "text": [
      "Ground truth:\n",
      " [4 5 0 1 5 7 1 5 0 5]\n",
      "Prediction:\n",
      " [4 5 0 1 5 7 1 5 0 5]\n"
     ]
    }
   ],
   "source": [
    "sample = next(iter(test_loader))\n",
    "imgs, lbls = sample\n",
    "ground_truth = lbls[:10].numpy()\n",
    "print(\"Ground truth:\\n\", ground_truth)\n",
    " \n",
    "test_output, last_layer = net2(imgs[:10].to(device))\n",
    "pred_y = torch.max(test_output, 1)[1]\n",
    " \n",
    "print(\"Prediction:\\n\", pred_y.cpu().numpy())\n"
   ]
  }
 ],
 "metadata": {
  "kernelspec": {
   "display_name": "base",
   "language": "python",
   "name": "python3"
  },
  "language_info": {
   "codemirror_mode": {
    "name": "ipython",
    "version": 3
   },
   "file_extension": ".py",
   "mimetype": "text/x-python",
   "name": "python",
   "nbconvert_exporter": "python",
   "pygments_lexer": "ipython3",
   "version": "3.8.8"
  },
  "orig_nbformat": 4
 },
 "nbformat": 4,
 "nbformat_minor": 2
}
